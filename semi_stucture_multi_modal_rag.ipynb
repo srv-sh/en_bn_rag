{
 "cells": [
  {
   "cell_type": "code",
   "execution_count": 1,
   "metadata": {},
   "outputs": [],
   "source": [
    "# from typing import Any\n",
    "\n",
    "# from pydantic import BaseModel\n",
    "# from unstructured.partition.pdf import partition_pdf\n",
    "\n",
    "# # Path to save images\n",
    "# path = \"/home/aiml/workspace/en_bn_rag/docs/\"\n",
    "\n",
    "# # Get elements\n",
    "# raw_pdf_elements = partition_pdf(\n",
    "#     filename=path + \"FAQ_en.pdf\",\n",
    "#     # Using pdf format to find embedded image blocks\n",
    "#     extract_images_in_pdf=False,\n",
    "#     # Use layout model (YOLOX) to get bounding boxes (for tables) and find titles\n",
    "#     # Titles are any sub-section of the document\n",
    "#     infer_table_structure=True,\n",
    "#     # Post processing to aggregate text once we have the title\n",
    "#     chunking_strategy=\"by_title\",\n",
    "#     # Chunking params to aggregate text blocks\n",
    "#     # Attempt to create a new chunk 3800 chars\n",
    "#     # Attempt to keep chunks > 2000 chars\n",
    "#     # Hard max on chunks\n",
    "#     max_characters=10000,\n",
    "#     new_after_n_chars=7000,\n",
    "#     combine_text_under_n_chars=5000,\n",
    "#     image_output_dir_path=path,\n",
    "# )"
   ]
  },
  {
   "cell_type": "code",
   "execution_count": 2,
   "metadata": {},
   "outputs": [],
   "source": [
    "def generate_markdown_table(data):\n",
    "    \"\"\"Generate Markdown table from a nested list.\"\"\"\n",
    "    markdown = \"\"\n",
    "    headers = data[0]\n",
    "    markdown += \"| \" + \" | \".join([str(h) if h else \"\" for h in headers]) + \" |\\n\"\n",
    "    markdown += \"|\" + \"|\".join([\"---\" if h else \"\" for h in headers]) + \"|\\n\"\n",
    "\n",
    "    for row in data[1:]:\n",
    "        markdown += \"| \" + \" | \".join([str(cell) if cell else \"\" for cell in row]) + \" |\\n\"\n",
    "\n",
    "    return markdown"
   ]
  },
  {
   "cell_type": "code",
   "execution_count": 3,
   "metadata": {},
   "outputs": [],
   "source": [
    "import pdfplumber\n",
    "table_html =[]\n",
    "settings = {\n",
    "   \"vertical_strategy\": \"lines\",\n",
    "   \"horizontal_strategy\": \"lines\",\n",
    "   \"snap_y_tolerance\": 10, \n",
    "}\n",
    "\n",
    "# with pdfplumber.open(\"/home/aiml/workspace/en_bn_rag/docs/FAQ_en.pdf\") as pdf:\n",
    "#     for page in enumerate(pdf.pages):\n",
    "        # im = page.to_image(resolution =150)\n",
    "        # im.reset().debug_tablefinder(settings)\n",
    "        \n",
    "        # table = page.extract_table()\n",
    "        # print(page)\n",
    "        # table_html.append(convert_to_html_table(table))\n",
    "\n",
    "\n"
   ]
  },
  {
   "cell_type": "code",
   "execution_count": 4,
   "metadata": {},
   "outputs": [],
   "source": [
    "\n",
    "# table = P0.extract_table()\n",
    "# convert_to_html_table(table)"
   ]
  },
  {
   "cell_type": "code",
   "execution_count": 5,
   "metadata": {},
   "outputs": [],
   "source": [
    "\n",
    "class extract_data():\n",
    "    def __init__(self):\n",
    "        self.table_settings = {\n",
    "                            \"vertical_strategy\": \"lines_strict\",\n",
    "                            \"horizontal_strategy\": \"lines_strict\",\n",
    "                            \"snap_y_tolerance\": 5,\n",
    "                            \"intersection_x_tolerance\": 15,\n",
    "                        }\n",
    "    def generate_markdown_table(self, data):\n",
    "        \"\"\"Generate Markdown table from a nested list.\"\"\"\n",
    "        markdown = \"\"\n",
    "        headers = data[0]\n",
    "        markdown += \"| \" + \" | \".join([str(h) if h else \"\" for h in headers]) + \" |\\n\"\n",
    "        markdown += \"|\" + \"|\".join([\"---\" if h else \"\" for h in headers]) + \"|\\n\"\n",
    "\n",
    "        for row in data[1:]:\n",
    "            markdown += \"| \" + \" | \".join([str(cell) if cell else \"\" for cell in row]) + \" |\\n\"\n",
    "\n",
    "        return markdown\n",
    "\n",
    "    def extract_table_from_page(self, page):\n",
    "\n",
    "        html_tables = []\n",
    "        tables = page.extract_tables(self.table_settings)\n",
    "        if tables != None:\n",
    "            for table in tables:\n",
    "                print(table)\n",
    "                html_tables.append(self.generate_markdown_table(table))\n",
    "            return html_tables\n",
    "        \n",
    "    def convert_image(self, page):\n",
    "        img = page.to_image()\n",
    "        img.show()\n",
    "\n",
    "    def extract_text_from_page(self, page):\n",
    "        page_width, page_height = page.width, page.height\n",
    "        non_table_text = []\n",
    "        tables = page.find_tables(self.table_settings)\n",
    "\n",
    "        table_bboxes = [table.bbox for table in tables]\n",
    "                    # Extract non-table text\n",
    "        if table_bboxes:\n",
    "            # Invert table bounding boxes to define non-table regions\n",
    "            non_table_regions = []\n",
    "            current_top = 0  # Start from the top of the page\n",
    "\n",
    "            for bbox in sorted(table_bboxes, key=lambda x: x[1]):  # Sort by top coordinate (y0)\n",
    "                top, bottom = bbox[1], bbox[3]  # y0 (top), y1 (bottom)\n",
    "\n",
    "                # Add region above the table\n",
    "                if current_top < top:\n",
    "                    non_table_regions.append((0, current_top, page_width, top))\n",
    "                current_top = bottom  # Update current top to the bottom of the current table\n",
    "\n",
    "            # Add remaining region below the last table\n",
    "            if current_top < page_height:\n",
    "                non_table_regions.append((0, current_top, page_width, page_height))\n",
    "\n",
    "            # Extract text from non-table regions\n",
    "            page_text = []\n",
    "            for region in non_table_regions:\n",
    "                cropped_page = page.within_bbox(region)\n",
    "                cropped_text = cropped_page.extract_text()\n",
    "                if cropped_text:\n",
    "                    page_text.append(cropped_text)\n",
    "\n",
    "            if page_text:\n",
    "                non_table_text.append(page_text)\n",
    "        else:\n",
    "            # If no tables, extract full page text\n",
    "            text = page.extract_text()\n",
    "            if text:\n",
    "                non_table_text.append(text)\n",
    "        \n",
    "        return non_table_text\n"
   ]
  },
  {
   "cell_type": "code",
   "execution_count": 6,
   "metadata": {},
   "outputs": [
    {
     "name": "stdout",
     "output_type": "stream",
     "text": [
      "[['Savings\\nDeposit', 'Special Notice Deposit(SND)', None, 'Fixed Deposit', None], [None, '< 1.00 crore', '1.25', '3 months but<6\\nmonths', '3.50-8.00'], [None, '1.00 crore but\\n<25.00 crore', '1.50', '6 months but<1\\nyear', '3.75-8.25'], [None, '25.00 crore but\\n<50.00 crore', '1.75', '1 year but<2\\nyears', '4.00-8.25'], [None, '50.00 crore but\\n<100.00 crore', '2.00', '2 years but<3\\nyears', '4.00-8.50'], ['-2.50', '100.00 crore\\nand above', '2.50', '3 years and\\nabove', '4.00-8.75']]\n",
      "[['Particulars', 'Charge/FeeAmount'], ['ClosingCharges', 'BDT200.00'], ['ExciseDuty&VAT', 'AsperGovernmentRules']]\n",
      "[['AccountStatementCharge', None], ['RegularStatement', 'Free'], ['Supply of Duplicate Statement ofAccount\\nonDemand', 'Withinoneyear:Tk500/-\\nMorethanoneyear:Tk500/-+Tk.500foreachyear.'], ['Balance Confirmation Certificate (Yearly&\\nHalfYearly)', 'Issuance of Balance Certificates more than two\\ntimesTk.200/-toberealized'], ['Authentication of client statement at the\\nrequestofotherbanks', 'Tk.300/']]\n",
      "[['Savings\\nDeposit', 'Special Notice Deposit(SND)', None, 'Fixed Deposit', None], [None, '< 1.00 crore', '1.25', '3 months but<6\\nmonths', '3.50-8.00'], [None, '1.00 crore but\\n<25.00 crore', '1.50', '6 months but<1\\nyear', '3.75-8.25'], [None, '25.00 crore but\\n<50.00 crore', '1.75', '1 year but<2\\nyears', '4.00-8.25'], [None, '50.00 crore but\\n<100.00 crore', '2.00', '2 years but<3\\nyears', '4.00-8.50'], ['-2.50', '100.00 crore\\nand above', '2.50', '3 years and\\nabove', '4.00-8.75']]\n",
      "[['Feature', 'Current\\nAccount', 'Savings\\nAccount', 'CASA'], ['Purpose', 'Daily\\ntransactions\\nand bill\\npayments', 'Saving\\nmoney', 'Combines\\nfeatures of both\\ncurrent and\\nsavings\\naccounts'], ['Interest', 'Usually does\\nnot earn\\ninterest', 'Earns\\ninterest on\\nthe balance', 'Earns lower\\ninterest\\ncompared to\\nregular savings\\naccount'], ['Withdrawal\\nLimit', 'Unlimited', 'Limited\\nwithdrawals', 'Unlimited\\nwithdrawals\\nfrom current\\naccount, limited\\nfrom savings\\nportion']]\n",
      "[['Usage', 'Frequently\\nused for\\ntransactions', 'Less\\nfrequently\\nused,\\nprimarily for\\nsaving', 'Used for both\\ndaily\\ntransactions\\nand saving'], ['Fees', 'May have\\nmonthly fees\\nor\\ntransaction\\ncharges', 'Some\\naccounts\\nmay have\\nfees', 'Fees may vary,\\nusually lower\\ncompared to\\ncurrent\\naccounts'], ['Accessibilit\\ny', 'Easy access\\nthrough ATM,\\nonline\\nbanking, and\\nbranches', 'Accessible\\nbut may\\nhave limits\\non\\nwithdrawals', 'Easy access for\\ndaily\\ntransactions\\nand some\\nsavings'], ['Minimum\\nBalance', 'May require\\na minimum\\nbalance\\nEkhane\\nbalance\\namount jabe', 'May require\\na minimum\\nbalance\\nEkhane\\nbalance\\namount jabe', 'May require a\\nminimum\\nbalance\\nEkhane\\nbalance\\namount jabe'], ['Overdraft\\nFacility', 'Often\\navailable', 'Rarely\\navailable', 'Available in\\nsome CASA\\naccounts']]\n",
      "[['Service', 'TXN\\nAmount\\n(Daily)', 'TXN\\nCount\\n(Daily)', 'TXN\\nAmount\\n(Monthly)', 'TXN\\nCount\\n(Monthly)', 'Min', 'Max'], ['Send\\nMoney', '25,000', '50', '100,000', '100', '50', '25,000'], ['Cash Out', '25,000', '15', '150,000', '150', '50', '25,000'], ['Cash In', '30,000', '15', '200,000', '150', '50', '30,000']]\n",
      "[['Mobile\\nRecharge', '100,000', '50', '100,000', '1,500', \"For\\n‘Grameenp\\nhone,\\nRobi,\\nAirtel,\\nBanglalink\\n' mobile\\nrecharge,\\nminimum\\n20 Tk;\\nTeletalk\\nmin\\nrecharge\\n10Tk;\\n(except\\nrecharge\\noffer\\namounts)\", '50,000\\n(For\\nPre-paid\\n& Skitto\\nmobile\\nrecharge\\n- Max.\\n1,000\\ntaka\\nrecharge\\nis\\nallowed)'], ['Remittance', '256,250\\n(Including\\n2.5%\\nGovt.\\nIncentive)', '15', '1,000,000\\n(Including\\n2.5%\\nGovt.\\nIncentive)', '60', '50', '256,250\\n(Includin\\ng 2.5%\\nGovt.\\nIncentive\\n)'], ['Transfer\\nMoney', '50,000', '50', '300,000', '100', '10', '50,000'], ['Add Money\\nfrom Bank\\n& Card', '50,000', '25', '300,000', '100', '50', '50000']]\n",
      "[['Service', 'TXN\\nAmount\\n(Daily)', 'TXN\\nCount\\n(Daily)', 'TXN\\nAmount\\n(Monthly)', 'TXN\\nCount\\n(Monthly)', 'Min', 'Max'], ['Send\\nMoney', '25,000', '50', '100,000', '100', '50', '25,000'], ['Cash Out', '25,000', '15', '150,000', '150', '50', '25,000'], ['Cash In', '30,000', '15', '200,000', '150', '50', '30,000'], ['Mobile\\nRecharge', '100,000', '50', '100,000', '1,500', \"For\\n‘Grameenp\\nhone,\\nRobi,\\nAirtel,\\nBanglalink\\n' mobile\\nrecharge,\\nminimum\\n20 Tk;\\nTeletalk\\nmin\\nrecharge\\n10Tk;\\n(except\\nrecharge\\noffer\\namounts)\", '50,000\\n(For\\nPre-paid\\n& Skitto\\nmobile\\nrecharge\\n- Max.\\n1,000\\ntaka\\nrecharge\\nis\\nallowed)'], ['Remittanc\\ne', '256,250\\n(Including\\n2.5%\\nGovt.\\nIncentive)', '15', '1,000,000\\n(Including\\n2.5%\\nGovt.\\nIncentive)', '60', '50', '256,250\\n(Includin\\ng 2.5%\\nGovt.\\nIncentive\\n)'], ['Transfer\\nMoney', '50,000', '50', '300,000', '100', '10', '50,000'], ['Add\\nMoney\\nfrom\\nBank &\\nCard', '50,000', '25', '300,000', '100', '50', '50000']]\n",
      "[['Daily', 'Deposit/Withdraw', 'Max. 2 times\\nMax. 5 times\\nMax. 5 times'], [None, 'ATM Txn.', None], [None, 'P2P', None], ['Per Txn.', 'Deposit Amount', 'Max.Tk. 2,00,000/-\\nMax. Tk. 50,000/-\\nMax. Tk. 20,000/-\\nMax. Tk. 1,00,000/-'], [None, 'Withdrawal Amount\\n(per day)', None], [None, 'ATM withdrawal\\namount', None], [None, 'P2P Amount', None], ['Per day', 'ATM withdrawal', 'Max. Tk.\\n50,000/-']]\n",
      "[['', '', ''], ['Monthly', 'Deposit Amount\\nWithdrawal\\nAmount\\nP2P Amount', 'Max.Tk.\\n20,00,000/-\\nMax.Tk.\\n10,00,000/-\\nMax.Tk.\\n10,00,000/-']]\n"
     ]
    }
   ],
   "source": [
    "pdf = pdfplumber.open(\"/home/aiml/workspace/en_bn_rag/docs/FAQ_en.pdf\")\n",
    "extracted_text = []\n",
    "extracted_table = []\n",
    "extraction_class = extract_data()\n",
    "for page in pdf.pages:\n",
    "    tables =  extraction_class.extract_table_from_page(page)\n",
    "    text = extraction_class.extract_text_from_page(page)\n",
    "    extracted_text.append(text[0])\n",
    "    if len( tables) >0:\n",
    "        for table in tables:\n",
    "            extracted_table.append(table)\n",
    "    "
   ]
  },
  {
   "cell_type": "code",
   "execution_count": 7,
   "metadata": {},
   "outputs": [
    {
     "data": {
      "text/plain": [
       "11"
      ]
     },
     "execution_count": 7,
     "metadata": {},
     "output_type": "execute_result"
    }
   ],
   "source": [
    "len(extracted_table)"
   ]
  },
  {
   "cell_type": "code",
   "execution_count": 8,
   "metadata": {},
   "outputs": [],
   "source": [
    "# from unstructured.partition.pdf import partition_pdf\n",
    "\n",
    "# fname = \"/home/aiml/workspace/en_bn_rag/docs/FAQ_en.pdf\"\n",
    "\n",
    "# elements = partition_pdf(filename=fname,\n",
    "#                          infer_table_structure=True,\n",
    "#                          strategy='hi_res',\n",
    "#                          combine_text_under_n_chars=3000\n",
    "#            )\n",
    "\n",
    "# tables = [el for el in elements if el.category == \"Table\"]\n",
    "\n",
    "# print(tables[0].text)\n",
    "# print(tables[0].metadata.metadata.text_as_html)"
   ]
  },
  {
   "cell_type": "code",
   "execution_count": 9,
   "metadata": {},
   "outputs": [],
   "source": [
    "# class Element(BaseModel):\n",
    "#     type: str\n",
    "#     text: Any\n",
    "\n",
    "\n",
    "# # Categorize by type\n",
    "# categorized_elements = []\n",
    "# for element in raw_pdf_elements:\n",
    "#     if \"unstructured.documents.elements.Table\" in str(type(element)):\n",
    "#         categorized_elements.append(Element(type=\"table\", text=str(element)))\n",
    "#     elif \"unstructured.documents.elements.CompositeElement\" in str(type(element)):\n",
    "#         categorized_elements.append(Element(type=\"text\", text=str(element)))\n",
    "\n",
    "# table_elements = [el.metadata.text_as_html for el in raw_pdf_elements if el.category ==\"Table\"]\n",
    "# print(len(table_elements))\n",
    "\n",
    "# # Text\n",
    "# text_elements = [e for e in categorized_elements if e.type == \"text\"]\n",
    "# print(len(text_elements))"
   ]
  },
  {
   "cell_type": "code",
   "execution_count": 10,
   "metadata": {},
   "outputs": [
    {
     "data": {
      "text/plain": [
       "[\"CASA Account\\n1. What is a current account?\\nAns. A Current Account is designed for businesses to manage daily transactions\\nlike cheque issuance, deposits, fund transfers, withdrawals, etc. Every individual\\nwho wants to start a business must open a Current Account with a bank.\\n2. What is a savings account?\\nAns. Savings Account is the most basic Bank Account type that you can open\\nwith any bank or financial institution. A Savings Account lets you park your idle\\nmoney, thus keeping it safe. Depositing funds is the best option rather than hiding\\nthem in your home’s locker, where the chances of theft are more. Whenever you\\nopen a Savings Account, the banks generally give you a Debit Card that offers\\neasy access to money through ATM withdrawal, plus you can also get your hands\\non offers by top brands.\\n3. What is the benefit of creating a current account?\\nAns. 5 benefits of a Current Account:\\n1. Business Transactions: A current account is specifically designed\\nfor businesses and allows you to conduct various financial\\ntransactions required for your business operations, such as paying\\nsuppliers, receiving payments from customers, and managing daily\\nexpenses.\\n2. Unlimited Transactions: Unlike savings accounts, current accounts\\nusually come with no or high transaction limits, allowing you to carry\\nout numerous transactions without incurring extra charges.\\n3. Overdraft Facility: Many current accounts offer an overdraft facility,\\nwhich allows you to withdraw more money than the balance in your\\naccount, up to a pre-approved limit. This can help you manage\\ntemporary cash flow challenges.\\n4. Business Banking Services: Current accounts often provide\\nadditional business banking services, such as the issuance of\\nbusiness cheques, online banking platforms tailored for businesses,\\nand merchant services to accept card payments.\\n5. Business Growth: A current account provides a separate platform for\\nmanaging your business finances, enabling you to track your\\nbusiness's income and expenses separately from your personal\\nfinances. This separation is crucial for monitoring business growth and\\nensuring accurate financial reporting.\\n4. What is the benefit of creating a savings account?\\nAns. 5 benefits of a Savings Account:\\n1. Safe Storage of Funds: A savings account provides a secure place\\nto keep your money, protected by the bank and often insured, offering\\npeace of mind.\\n2. Liquidity: Savings accounts allow easy access to your funds through\\nvarious channels like ATMs, cheques, and online banking, ensuring\\nliquidity and convenience.\",\n",
       " \"3. Interest Earnings: While the interest rates may not be high, savings\\naccounts provide a modest return on your deposits, contributing to\\nyour savings growth over time.\\n4. Emergency Fund: Savings accounts are an ideal platform for building\\nan emergency fund, providing a safety net during unexpected\\nsituations.\\n5. Financial Discipline: Maintaining a savings account encourages\\nresponsible money management, helping you set aside a portion of\\nyour income for saving.\\n5. How can I create a current account?\\nAns.\\n● Login to your Kori Account.\\n● Click on the plus icon after sliding the accounts.\\n● Select current account from account types.\\n● Enter the user’s necessary information and click on the next button.\\n● Enter the nominee’s necessary information and click on the next or back\\nbutton.\\n● Accept the terms and conditions.\\n● Enter the pin code and click on the confirm button.\\n6.How can I create a savings account?\\nAns.\\n● Login to your Kori Account.\\n● Click on the plus icon after sliding the accounts.\\n● Select savings account from account types.\\n● Enter the user’s necessary information and click on the next button.\\n● Enter the nominee’s necessary information and click on the next or back\\nbutton.\\n● Accept the terms and conditions.\\n● Enter the pin code and click on the confirm button.\\n7. How many current/savings accounts can a person create?\\nAns. There are no restrictions on the number of accounts you can open, especially if you\\ndistribute them across different financial institutions. The optimal number of savings\\naccounts varies based on your individual financial needs and objectives.\\n8.What is the amount limitation of a current/savings account?\\nAns. The limitation on the amount in a current or savings account isn't fixed; it's an\\nongoing process.\\n9.How can I see my current/savings accounts details?\\nAns. To see your current/savings account details, login to the kori digital bank app.In the\\ntop of the home page, you will find the accounts that you had created. Click on the specific\\naccount, to see the details of that account.\\nLogin-> Homepage-> Click Specific Account->Account Details\",\n",
       " [\"10.Is there any monthly limitation of depositing in a current/savings account?\\nAns. The limitation on the amount in a current or savings account isn't fixed; it's an\\nongoing process.\\n11. Can I withdraw money from my current/savings account?\\nAns. Yes.You can withdraw money from your current/savings account by using Kori\\nDigital Bank’s withdraw option.\\n12. Is it possible to close my existing account? If yes, how?\\nAns. Yes, it is possible to close your existing account. For Kori, a 200 taka charge is\\napplicable along with submitting an Account Closing Form. For BRAC Bank, you need to fill\\nout a Customer Closure Application.\\n13. Is it possible to make multiple nominees for multiple accounts?\\nAns. You can select a maximum of two nominees for each account. Providing\\ninformation for at least one nominee is mandatory for opening an account. While you have\\nthe option to choose multiple nominees for multiple accounts, we recommend selecting a\\nblood relation as the nominee.\\n14. What is the interest rate for a savings account?\\n(Deposit Rate)(Percentage per annum)\"],\n",
       " ['15.How will I get the interest?monthly/Yearly basis?\\nAns.\\n(Deposit Rate)(Percentage per annum)'],\n",
       " \"Ref: Investopedia\\n16. What is a CASA account?\\nAns. A Current Account Savings Account (CASA), provided by Kori bank, merges\\nthe features of a current account and a savings account. Customers earn minimal or\\nno interest on the funds in the current account, which are used regularly for paying\\nbills, but they receive interest on the savings portion.\\n17. What is the benefit of creating a CASA account?\\nAns. Creating a CASA account offers several benefits:\\n1. Encourages Regular Saving: CASA accounts are designed to make saving\\neasier and more flexible, encouraging regular deposits.\\n2. Better Liquidity: Customers can access their money anytime without having it\\ntied up for months, trading off a higher interest rate for better liquidity.\\n3. Convenient Transactions: Combining features of current and savings accounts,\\nCASA accounts allow for frequent transactions and easy bill payments.\\n4. Builds Bank Relationship: Consumers and small businesses can develop a\\nstrong working relationship with their bank over time, which can be beneficial for\\nfuture financial needs.\\n5. Easy Access: With a CASA account, customers can manage their daily banking\\nneeds conveniently, whether online, through ATMs, or in branches.\\n6. Interest Earnings: Even though the interest rates are lower compared to fixed\\ndeposits, customers still earn some interest on the savings portion.\\n7. Overdraft Facility: Many CASA accounts offer overdraft facilities, providing a\\nfinancial cushion when needed.\\n8. Safety and Security: Funds in CASA accounts are generally insured by the bank,\\noffering a secure place to store money.\\nIn summary, CASA accounts offer a flexible, accessible, and convenient way to\\nmanage money while still earning some interest and building a strong banking\\nrelationship.\\n18. What's the Difference Between a CASA Account and a Savings Account?\\nAns: Interest Earnings: A portion of a CASA account functions as a savings\\naccount, where the customer earns interest on their deposit. However, the interest\\nrate is typically slightly lower than that of a regular savings account.\\nIntegrated Savings and Checking: By integrating checking and savings features\\ninto a single account, CASA accounts are designed to facilitate regular saving for the\\ncustomer on a weekly basis.\",\n",
       " [\"Accessibility and Usage: While a regular savings account also promotes saving,\\ncustomers are more likely to leave those funds untouched. In contrast, CASA savings\\nare more accessible.\\nStability for Lending: This accessibility means that banks cannot rely on CASA\\ndeposits remaining stable week to week, making them less stable for the bank's\\nlending purposes, and therefore, they offer lower interest rates.\\n19. What's the Difference Between a CASA Account and a Current Account?\\nAns.\\n20.Do CASA Accounts Offer Competitive Interest Rates?\\nAns. A CASA account generally offers a lower interest rate compared to other\\naccounts at Kori. The key difference lies in the time commitment.\\nA CASA account has no time commitment, allowing the customer to access their\\nmoney anytime.\\nTo obtain a higher interest rate, you must commit to keeping your money in the bank\\nfor a specific period. The longer the commitment, the higher the interest rate.\\n21. How is CASA account different from Current account and Savings account?\\nAns. Sure, here's a simple table outlining the differences between current accounts,\\nsavings accounts, and CASA:\"],\n",
       " ['This table should help you understand the key differences between these types of\\naccounts.\\nAdd money\\n1. What are the methods for adding money?\\nAns. You can add money from- 1. Bank to Kori Account 2. Card to Kori Account 3.\\nKori Account to Kori Account 4. MFS to Kori Account\\n2. How can I add money from MFS?\\nAns. Login -> Home Page-> Add Money-> Select Add Money from MFS-> Select\\nyour preferred MFS-> Type your amount -> Select You Kori Bank Account where you\\nwant to add money -> Enter Your PIN-> Add Money Successful\\n3. How can I add money from npsb/other banks?\\nAns. Login -> Home Page-> Add Money-> Select Add Money from Other Banks->\\nSelect Your Bank-> Type your Account Number -> Type your amount -> Select Your\\nKori Bank Account where you want to add money -> Enter Your PIN-> Add Money\\nSuccessful\\n4. How can I add money from visa/master cards?\\nAns. Login -> Home Page-> Add Money-> Select Add Money from Card-> Select\\nYour Card (i. Debit Card or ii. Credit Card)-> Type your Card Number -> Type your'],\n",
       " ['amount -> Select Your Kori Bank Account where you want to add money -> Enter\\nYour PIN-> Add Money Successful\\n5. What are the benefits of this feature \"Add Money\"?\\nHere are the benefits of the \"Add Money\" feature of Kori Digital Bank:\\nInstant Transfers: Users can instantly transfer money to their Kori Account,\\nensuring quick access to funds whenever needed.\\nVersatile Funding Options: The \"Add Money\" feature allows users to transfer\\nfunds from multiple sources, including other banks, cards, Mobile Financial\\nServices (MFS), and even between Kori accounts. This versatility provides users\\nwith convenient options to fund their accounts according to their preferences and\\nneeds.\\nAccessibility: With the ability to add money from various sources, users can\\neasily manage their finances without constraints, regardless of their banking\\npreferences or location.\\nSeamless Transactions: The process of adding money to a Kori Account is\\nstreamlined and user-friendly, ensuring a smooth and hassle-free experience for\\ncustomers.\\nEnhanced Convenience: By offering multiple funding sources, Kori Digital Bank\\nprioritises customer convenience, allowing users to manage their funds efficiently\\nand securely from a single platform.\\n6. What is the daily transaction limit in case of adding money?\\nAns.\\nLimit and Charges'],\n",
       " ['Withdraw\\n1. What are the methods for withdrawing money?\\nAns. You can withdraw money from- 1. Bank 2. Card 3. Kori Account 4. MFS\\n2. How can I withdraw money from a Kori Account?\\nAns. This process is ongoing\\n3. How can I withdraw money from MFS?\\nAns.\\n● Login to Kori Account\\n● Select withdraw.\\n● Transfer money to your preferred MFS account\\n● Enter your PIN\\n● You can take your cash from that particular MFS Agent.'],\n",
       " '4. How can I withdraw money from npsb/other banks?\\nAns.\\n● Login to Kori Account\\n● Select withdraw.\\n● Transfer money to other Bank accounts\\n● Enter your PIN\\n● You can take your cash from the particular Bank’s ATM Booth\\n5. How can I withdraw money from visa/master cards?\\nAns.\\n● Login to Kori Account\\n● Select withdraw.\\n● Transfer money to Card\\n● Enter your PIN\\n● You can take your cash from the particular Bank’s ATM Booth\\n6. Whatarethebenefitsofthisfeature\"withdrawmoney\"?\\nAns. The withdrawal feature of a conventional digital wallet offers several benefits to\\nusers:\\n● Access to Funds: Users can withdraw funds from different sources –\\n○ Banks\\n○ MFS\\n○ Cards\\n○ Kori Accounts, providing access to their money in physical cash form\\nwhenever needed.\\n● Convenience: The withdrawal feature enables users to access their funds\\nconveniently, especially in situations where digital payments are not accepted\\nor where there is limited internet connectivity.\\n● Flexibility: Users have the flexibility to withdraw funds from various locations,\\nsuch as ATMs, authorised agents, or affiliated banks, offering convenience\\nbased on their preferences and needs.\\n● Emergency Situations: In emergencies or unforeseen circumstances where\\ndigital payments are not feasible, the withdrawal feature ensures users have\\naccess to cash to meet their immediate nee7ds.\\n● Integration with Traditional Banking: The withdrawal feature often allows\\nusers to transfer funds from Kori Bank Accounts to their linked bank account,\\nfacilitating seamless integration between digital and traditional banking\\nsystems.',\n",
       " '● Financial Inclusion: For individuals without access to traditional banking\\nservices, the withdrawal feature of Kori Digital Bank provides a means to\\naccess and manage their funds, promoting financial inclusion and\\nempowerment.\\n7.What are the methods for transferring money?\\nAns. Various methods are employed for transferring money, including transferring from\\none bank account to another, from a bank account to mobile financial services (MFS), and\\nfrom a bank account to other banks.\\n8.How can I transfer money to MFS?\\nAns. To initiate a fund transfer from your Kori Account to a mobile financial services\\n(MFS) account, follow these steps:\\n● Log in to your Kori Account.\\n● Access the Dashboard.\\n● Click on \"Fund Transfer.\"\\n● Choose \"MFS Account.\"\\n● Proceed by clicking \"Next.\"\\n● Select the beneficiary account.\\n● Choose your Kori Account number as the source.\\n● Enter the amount to transfer.\\n● Provide a reference for the transaction.\\n● Click on the \"Next\" button.\\n● Review all the provided information.\\n● Enter your PIN number for verification.\\n● Click on \"Next\" to confirm.\\n● Upon successful processing, you will see a message indicating \"Fund Transfer\\nSuccessful.\"\\n9.How can I transfer money to npsb/other banks?\\nAns.\\nTo transfer money to NPSB or other banks, follow these steps:\\n● Log in to your Kori Account.\\n● Navigate to the Dashboard.\\n● Click on \"Fund Transfer.\"\\n● Choose \"Other Banks.\"\\n● Select NPSB as the recipient bank.\\n● Pick the beneficiary from your list.\\n● Choose your Kori account as the source.\\n● Enter the transfer amount.\\n● Provide a reference for the transfer.\\n● Proceed by clicking the \"Next\" button.\\n● Review all the provided information.\\n● Click \"Next\" to confirm.\\n● Enter your PIN number for verification.\\n● Complete the process by clicking \"Next.\"',\n",
       " '10.How can I transfer money to visa/master cards?\\nAns. This process is ongoing\\n11.What are the benefits of other banks withdrawingthis feature?\\nAns. Interbank withdrawals offer customers convenience, accessibility to funds from a\\nwider network of ATMs, reduced fees, competitive advantages for banks, higher customer\\nsatisfaction, and increased card usage.\\n12.What is the procedure of transferring money for the Kori to Kori other user’s\\naccount?\\nAns.\\n● Log in to your Kori Account.\\n● Access the Dashboard.\\n● Click on \"Fund Transfer.\"\\n● Select \"Kori Account\".\\n● Choose the other Account’s .\\n● Select the beneficiary from your list.\\n● Select your Kori account as the source.\\n● Enter the transfer amount.\\n● If you want Provide a reference for the transaction.\\n● Proceed by clicking the \"Next\" button.\\n● Review all the provided information.\\n● Click \"Next\" to confirm.\\n● Enter your PIN number for verification.\\n13.What is the procedure of transferring money for Kori to other bank’s accounts?\\nAns. To transfer money between accounts within the same bank, follow these steps:\\n● Log in to your Kori Account.\\n● Access the Dashboard.\\n● Click on \"Fund Transfer.\"\\n● Select \"Other Banks.\"\\n● Choose either NPSB or BEFTN as the recipient bank.\\n● Select the beneficiary from your list.\\n● Select your Kori account as the source.\\n● Enter the transfer amount.\\n● If you want Provide a reference for the transaction.\\n● Proceed by clicking the \"Next\" button.\\n● Review all the provided information.\\n● Click \"Next\" to confirm.\\n● Enter your PIN number for verification.\\n● Complete the process by clicking \"Next.\"\\n14.What is the daily transaction limit in case of withdrawal/transfer?\\nAns.\\nLimit and Charges',\n",
       " ['15.Are there any charges for withdrawal/fund transfer?If yes, what is the amount?\\nAnswer:This process is ongoing'],\n",
       " \"Current Balance/Account Statements\\n1. How can I check my current balance?\\nAns.\\nTo check the current balance for your multiple Kori Accounts, follow these simple steps:\\n1. Log in to your Kori Mobile App using your Mobile Number and PIN.\\n2. Once logged in, navigate to the home page.\\n3. On the home page, you'll find the current balance displayed for each of your Kori\\nAccounts, including Saving Accounts, Deposit Accounts, Current Accounts, and Piggy\\nBank Accounts.\\nWith this feature, you can easily keep track of your balances across all your Kori\\nAccounts from one convenient location.\\n2. How can I get my account’s statement?\\nAns.This process is ongoing\\n3.Please tell me my current balance.\\nAns. This process is ongoing\\n4.Please show my account’s statement.\\nAns. This process is ongoing\\nTerm Deposits\\n1. What are the types of deposit accounts in Kori Digital Bank?\\nAns: In Kori Digital Bank, you can typically find savings accounts, current accounts, term\\ndeposit accounts and recurring deposit accounts.\\n2. What is term deposit?\\nAns: A term deposit is a fixed-term savings account with a specified interest rate and\\nmaturity date. It offers a higher interest rate than regular savings accounts.\\n3. How can I create a term deposit account?\\nAns: You can easily create a term deposit account through our mobile app or website.\\n● Log in\\n● Go to the “Deposit” section\\n● Click on the “Create new Deposit Account” button.\\n● Select Term deposit from plan.\\n● For Term deposit account, select the monthly deposit amount and period in year\\nusing slider.\\n● Select a CA/SA to link with the term deposit account.\",\n",
       " '● Fill up the nominee’s form and click the next button.\\n● Upload nominee\\'s photo and signature\\n● Accept terms and conditions.\\n● Enter the pin code.\\n● Click edit button\\n● Click confirm button\\n4. What are the benefits of a term deposit account?\\nAns: A term deposit provides higher interest rates, guaranteed returns, and a fixed\\ninvestment period, offering you a secure way to grow your savings.\\n5. How many term deposit accounts can a person create?\\nAns: You can create multiple term deposit accounts based on your financial goals and\\npreferences.\\n6. What is the amount limitation of a term deposit account?\\nAns: The minimum and maximum deposit amounts may vary. Check our terms and\\nconditions for specific details.\\n7. How can I see my term deposit accounts details?\\nAns: Access your term deposit details anytime through our mobile app or website under the\\n\"Accounts\" section.\\n8. Can I withdraw money from my term deposit account?\\nAns: Withdrawals before the maturity date may be subject to penalties. It\\'s recommended to\\nkeep funds until maturity for maximum benefits.\\n9. Is it possible to close my existing account? If yes, how?\\nAns: Yes, you can close your term deposit account. Contact our customer support for\\nassistance and guidance on the process.\\n10. Is it possible to make multiple nominees for multiple term deposit accounts?\\nAns: Yes, you can nominate different individuals for each term deposit account to ensure\\nyour assets are distributed as per your wishes.\\n11. What is the interest rate for a term deposit account?\\nAns: The interest rate for a term deposit account may vary. Check our current rates on the\\napp or website for the most up-to-date information.\\n12. How will I get the interest? Monthly/yearly or daily basis?\\nAns: Interest is typically paid at the end of the term, but check our terms and conditions for\\nspecific details on interest payment frequency.\\n13. Is it possible to withdraw before maturity?\\nAns: While possible, early withdrawals may incur penalties. Review the terms and\\nconditions or contact customer support for more information.\\n14. What is the penalty for withdrawing before maturity?',\n",
       " \"Ans: Penalties for early withdrawal vary. Refer to our terms and conditions or contact\\ncustomer support for details on applicable penalties.\\n15. Can I renew my term deposit account automatically at maturity?\\nAns: Yes, Kori digital banks offer automatic renewal options for term deposit accounts.\\nCheck the renewal process in the terms and conditions.\\n16. Can I change the maturity period of my term deposit after opening the account?\\nAns: Typically, the maturity period is fixed at the time of account opening. However, you can\\ndiscuss options with our customer support if needed.\\n17.Are there any fees associated with maintaining a term deposit account?\\nAns: Review our fee schedule for any applicable charges related to term deposit accounts.\\nDigital banks often aim to keep fees transparent and minimal.\\n18.Can I add or remove a nominee after opening a term deposit account?\\nAns: Some digital banks may allow you to update nominee details. Check with our customer\\nsupport for the procedure and requirements.\\n19. How is term deposit account, different from normal savings account?\\nRecurring Deposit\\n1. What are the types of deposit accounts in Kori Digital Bank?\\nAns: Kori Digital Bank offers savings accounts, current accounts, and recurring deposit\\naccounts to cater to your varied financial needs.\\n2. What is a recurring deposit?\\nAns: A recurring deposit is a savings option where you regularly deposit a fixed amount\\nevery month, earning interest on the cumulative sum over the chosen tenure.\\n3. How can I create a recurring deposit account?\\nAns: Easily create a recurring deposit account through our mobile app or website.\\n● Log in\\n● Go to the “Deposit” section\\n● Click on the “Create new Deposit Account” button.\\n● Select Recurring Deposit from plan.\\n● For Recurring deposit account, select the monthly deposit amount and period in year\\nusing slider.\\n● Select a CA/SA to link with the term deposit account.\\n● Fill up the nominee’s form and click the next button.\\n● Upload nominee's photo and signature\\n● Accept terms and conditions.\\n● Enter the pin code.\\n● Click edit button\",\n",
       " '● Click confirm button\\n4. What are the benefits of a recurring deposit account?\\nAns: A recurring deposit account offers disciplined savings, higher interest rates, and a\\nsystematic way to grow your wealth over time.\\n5. How many recurring deposit accounts can a person create?\\nAns: You can create multiple recurring deposit accounts based on your financial goals and\\npreferences.\\n6. What is the amount limitation of a recurring deposit account?\\nAns: Check our terms and conditions for specific details on minimum and maximum monthly\\ndeposit amounts.\\n7. How can I see my recurring deposit accounts details?\\nAns: Access your recurring deposit details anytime through our mobile app or website under\\nthe \"Accounts\" section.\\n8. Can I withdraw money from my recurring deposit account?\\nAns: Yes. However, In case of withdrawals before maturity, they may incur penalties. It\\'s\\nrecommended to maintain the deposit until maturity for maximum benefits.\\n9. Is it possible to close my existing account? If yes, how?\\nAns: Yes, you can close your recurring deposit account. Contact our customer support for\\nassistance and guidance on the closure process.\\n10.Is it possible to make multiple nominees for multiple recurring deposit\\naccounts?\\nAns: Yes, you can nominate different individuals for each recurring deposit account to\\nensure your assets are distributed as per your wishes.\\n11. What is the interest rate for a recurring deposit account?\\nAns: The interest rate may vary, so check our current rates on the app or website for the\\nmost up-to-date information.\\n12.How will I get the interest? Monthly/yearly or daily basis?\\nAns: Interest is typically paid at the end of the tenure, but check our terms and conditions for\\nspecific details on interest payment frequency.\\n13.Is there any penalty for skipping any monthly deposit?\\nAns: Some banks may impose penalties for missed deposits. Review our terms and\\nconditions for details on any applicable penalties.\\n14.Is it possible to withdraw before maturity?\\nAns: Yes, but early withdrawals may incur penalties. Refer to our terms and conditions or\\ncontact customer support for more information.\\n15.What is the penalty for withdrawing before maturity?',\n",
       " 'Ans: Penalties for early withdrawal vary. Refer to our terms and conditions or contact\\ncustomer support for details on applicable penalties.\\n16.What is the minimum amount for a monthly deposit?\\nAns: Check our terms and conditions for the specific minimum amount required for monthly\\ndeposits into your recurring deposit account.\\n17.How is recurring deposit account different from term deposit account?\\n18.How is recurring deposit account different from savings account?\\nPiggy Bank\\n1. What is a piggy bank?\\nAnswer: Every payment you make with Piggy Bank Service gives you the chance to\\nsave money. We easily transfer the remaining money to your piggy bank by\\nautomatically rounding it up to the nearest whole number. You can put an end to your\\nconcerns about spare change piling up in your wallet or falling between the gaps\\nbecause every penny helps you reach your financial goals.For example, if you pay 99\\ntaka, remaining 1 taka will automatically transfer to the piggy bank account. If you\\npay 90 taka, the remaining 10 taka will automatically transfer to the piggy bank\\naccount.\\n2. What are the benefits of creating a piggy bank account?\\nAnswer: Transform your spare change into meaningful savings, effortlessly and on\\nyour terms.You have the power to withdraw or transfer these savings to your own\\naccount whenever you need.\\n3. How can I create a piggy bank account?\\nAnswer:\\n○ Click on the Piggy Bank from the dashboard page.\\n○ Write account description (optional).\\n○ Click on the “Next” button.\\n○ Click the Accept button for accepting terms and conditions.\\n○ Select between one digit and two digits. It will go to the piggy savings goal\\npage\\n○ Click the “Next” button.It will go to the default milestone page.\\n○ Click the next button if the default milestone is okay. It will go to the “piggy\\nmilestone is set” page.\\n○ Else click the edit button to go to the edit milestone page.\\n○ Enter the milestone amounts.',\n",
       " '○ Click the next button.It will go to the “piggy milestone is set” page.\\n○ Click the next button to link accounts.\\n○ Select one/more accounts to link with the piggy bank account.\\n○ Click the next button to create a piggy bank account.\\n○ From the Account created successfully page, click on the dashboard. It will go\\nto the dashboard page.\\n4. How many piggy bank accounts can a person create?\\nAnswer: One\\n5. How can I withdraw money from a piggy bank?\\nAnswer:\\n○ 1.Click on the Piggy Bank from the dashboard page.It will go to the account\\ndetails page.\\n○ 2.Click on the withdraw/transfer button.It will go to the transfer/withdrawal\\noptions.\\n○ 3.Click on the Bkash icon.\\n○ 4.Enter Bkash number.\\n○ 5.Enter amount to withdraw.\\n○ 6.Write in the reference field.\\n○ 7.Enter the pin code.\\n○ 8.Click on the dashboard page.\\n6. How can I transfer money from a piggy bank?\\nAnswer:\\n○ 1.Click on the Piggy Bank from the dashboard page.It will go to the account\\ndetails page.\\n○ 2.Click on the withdraw/transfer button.It will go to the transfer/withdrawal\\noptions.\\n○ 3.Click on the Bkash icon.\\n○ 4.Enter Bkash number.\\n○ 5.Enter amount to withdraw.\\n○ 6.Write in the reference field.\\n○ 7.Enter the pin code.\\n○ 8.Click on the dashboard page.\\n7. How many ca/sa accounts can be linked with piggy bank accounts?\\nAnswer: Multiple accounts can be linked\\n8. Is it possible to edit linked accounts?What is the procedure?\\nAnswer: yes\\n○ Click on the Piggy Bank from the dashboard page.It will go to the account\\ndetails page.\\n○ In the account details page, click on the edit linked accounts.\\n○ Choose preferable accounts to link.',\n",
       " '○ Click on the Next button to update linked accounts.\\n9. Is it possible to deposit a 3 digits amount in a piggy bank?\\nAnswer: NO,it is possible to deposit a two-digit amount into a piggy bank\\n10.Is it possible to edit the default milestones?If yes, How?\\nAnswer: Yes.\\n○ In the default milestone page, Click on edit button.\\n○ Enter your milestone amount.\\n○ Click the Next button.\\n11. What is the maximum range to set milestones?\\nAnswer: There is no Maximum range to set milestones\\n12.Can I edit my milestones any time?\\nAnswer : No.While creating an account, you have to edit your default milestone.\\nAfter account creation it is not possible to change milestones.\\n13.If I can’t meet the milestone, is there any penalty?\\nAnswer: No , interest will be not added as per terms and condition\\n14.Is it an automatic transfer process?\\nAnswer: Yes , After saving the digit it will deduct Every payment you make with\\nPiggy Bank Service gives you the chance to save money. We easily transfer the\\nexcess money to your piggy bank by automatically rounding it up to the nearest\\nwhole number.\\n15.What is the Minimum range to set milestones?\\nAnswer: 500 Tk\\nUtility Bill payment\\n1. How can I pay my utility bills from Kori Digital Bank?\\nAnswer:\\n● Click on the utility bill from the dashboard.\\n● Click on the receipts to see previous bill payment history.\\n● Click on the My Biller to pay from previously saved bills.\\n● Write in the search field to find out the desired bill type easily.\\n● Else, select from the options (Electricity/gas/water) etc.\\n● Selecting a bill type (Electricity/gas/water) etc. will show the options for\\nprepaid/postpaid.\\n● Click pay bill named prepaid bill.\\n● Enter account number.\\n● Enter contact number.\\n● Select the account from where the bill will be paid.\\n● Tick on the Save For Future Payments if the user wants to repeat payments.\\n● Write the bill reference name if the user wants to remember the bill.\\n● Select from the suggestions for the amount/enter the amount manually.\\n● Click on the NEXT button.',\n",
       " '● Enter the pin code.\\n● Long Press on the “Payment Button”\\n2. How can I pay my electricity bill?\\nAnswer:Click on the utility bill from the dashboard.\\n● Write in the search field to find out the desired bill easily.\\n● select from the options Electricity\\n● Selecting a bill type will show the options for prepaid/postpaid.\\n● Click pay bill named prepaid bill.\\n● Enter account number.\\n● Enter contact number.\\n● Select the account from where the bill will be paid.\\n● Tick on the Save For Future Payments if the user wants to repeat payments.\\n● Write the bill reference name if the user wants to remember the bill.\\n● Select from the suggestions for the amount/enter the amount manually.\\n● Click on the NEXT button.\\n● Enter the pin code.\\n● Long Press on the “Payment Button”\\n3. How can I pay my gas bill?\\nAnswer:Click on the utility bill from the dashboard.\\n● Write in the search field to find out the desired bill easily.\\n● Else, select from the options GAS\\n● Selecting a bill type will show the options for prepaid/postpaid.\\n● Click pay bill named postpaid bill.\\n● Enter Bill number.\\n● Select bill period month\\n● Select the account from where the bill will be paid.\\n● Tick on the Save For Future Payments if the user wants to repeat\\npayments.\\n● Write the bill reference name if the user wants to remember the bill.\\n● Select from the suggestions for the amount/enter the amount\\nmanually.\\n● Click on the NEXT button.\\n● Enter the pin code.\\n● Long Press on the “Payment Button”\\n4. How can I pay my water bill?',\n",
       " 'Answer:Click on the utility bill from the dashboard.\\n● Write in the search field to find out the desired bill easily.\\n● Else, select from the options Water\\n● Selecting a bill type will show the options for prepaid/postpaid.\\n● Click pay bill named Postpaid bill.\\n● Enter Bill number.\\n● Select bill period month.\\n● Select the account from where the bill will be paid.\\n● Tick on the Save For Future Payments if the user wants to repeat\\npayments.\\n● Write the bill reference name if the user wants to remember the bill.\\n● Enter the amount manually.\\n● Click on the NEXT button.\\n● Enter the pin code.\\n● Long Press on the “Payment Button”.\\n5. How can I pay my internet bill?\\nAnswer:\\n● Login your kori account\\n● Go to Dashboard\\n● Click on Utility Bill\\n● Click on Internet\\n● Click on Pay Bill Button.\\n● Enter the BILL Number\\n● Select your account from the dropdown list.\\n● Enter the Bill payment Reference.\\n● Click on next button\\n● Enter your pin number\\n● Click on the next button.\\n6. What kind of utilities can I pay from kori digital bank?\\nAnswer:\\n● Electricity\\n1. Desco Prepaid.\\n2. Nesco prepaid.\\n3. Dpdc Postpaid.\\n4. West Zone Postpaid.\\n5. Desco postpaid.\\n6. Nesco postpaid.\\n● Water.\\n1. Dhaka Wasa.\\n2. Khulna wasa.\\n3. Rajshahi wasa.\\n● Gas',\n",
       " '1. Jalalabad Gas.\\n2. Bakhrabad Gas.\\n3. Paschimanchal Gas.\\n● Internet\\n1. BTCL .\\n● E service\\n1. E-mutation.\\n2. Eporcha.\\n3. Nsda.\\n4. Land Tax .\\n7. Are there any charges for paying utility bills?\\nAnswer:There are no charges for utility bills. But Vat is required.\\n8. Can I save my last payment method?\\nAnswer:\\nYes,you can Save your last payment method.if you need please follow this process\\n● Write in the search field to find out the desired bill easily.\\n● Else, select from the options GAS\\n● Selecting a bill type will show the options for prepaid/postpaid.\\n● Click pay bill named postpaid bill.\\n● Enter Bill number.\\n● Select bill period month\\n● Select the account from where the bill will be paid.\\n● Tick on the Save For Future Payments if the user wants to repeat payments.\\n(user will find it on my biller section)\\n9. How can I save my last payment method?\\nAnswer:\\n● Login your kori account\\n● Go to Dashboard\\n● Write in the search field to find out the desired bill easily.\\n● Else, select from the options GAS\\n● Selecting a bill type will show the options for prepaid/postpaid.\\n● Click pay bill named postpaid bill.\\n● Enter Bill number.\\n● Select bill period month\\n● Select the account from where the bill will be paid.\\n● Tick on the Save For Future Payments if the user wants to repeat payments.\\n● Then go to the next process.\\n10.How can I see my previous bill payments history?\\nAnswer: Select Receipts, Here you can see previous bill payments history.\\n11. From which account will I have to pay?\\nAnswer: Select the valid account for bill payment. It can be a Current account,\\nSavings account, Credit card ,Debit Card.\\n12.Can I save the receipt after completion of bill payment?\\nAnswer : Yes, Click on save receipts Button\\n13.Can I pay for several month’s bills at a time?',\n",
       " \"Answer : Depends on bill type and organisation , For postpaid bills you can make a\\npayment for multiple months' bills at once if you choose to do so, the utility company\\nmay have its own policies regarding payment terms and may or may not accept\\nadvance payments for future months.\\n14.What is the difference between prepaid and postpaid bills?\\nAnswer :\\n● Prepaid Utility Bills:\\n○ Prepaid utility billing requires customers to pay for their utility usage in\\nadvance.\\n○ Customers typically purchase credit or tokens for their utility metres or\\naccounts before using the services.\\n○ The prepaid amount is then deducted as the customer uses the\\nutilities, and when the credit runs out, they need to purchase more to\\ncontinue using the services.\\n● Postpaid Bills:\\n○ Postpaid utility billing involves using utility services first and receiving\\na bill for the consumed services at a later date, usually on a monthly\\nbasis.\\n○ Customers are billed based on their actual usage during the billing\\nperiod, and they are required to pay the bill by a specified due date.\\n15. What is the process if the selected account has insufficient balance to pay the\\nbill?\\nAnswer : There will be a popup to choose another account, click on the popup and\\nselect the valid account for bill payment.\\n16.How to pay pending bills?\\n17.How to associate a new biller?\\n18.How to cancel a new biller?\\nOnboarding\\n1. How can I register for Kori Digital Bank?\\nAnswer:\\nFor Android/Web/IOS:\\n● Tap on the digital banking app icon to launch the application.\\n● Navigate to the Registration page.\\n● Enter a valid mobile number.\",\n",
       " \"● Enter the OTP sent to that number.\\n● Choose the age group from the options, “Below 18” and “Above 18”.\\n● If “Above 18”\\n■ Use the device's camera to scan the NID front side.\\n■ After successful scanning, click on the “Next” button.\\n■ Use the device's camera to scan the NID back side.\\n■ After successful scanning, click on the “Next” button.\\n■ Use the device's camera for face verification.\\n○ If “Below 18”\\n■ Passport/NID\\n● Set a 5 digit pin code.\\n● Enter a 5 digit pin code.\\n2. Which information is necessary to create an account in Kori Digital Bank?\\nAnswer: For opening a Kori Account, It is important to have NID. In case you are\\nbelow 18 or you don’t have NID, you can create an account with a Birth Certificate or\\nPassport Number.\\n3. How to scan NID?\\nAnswer: To scan your NID front and back side, use your device’s camera. Take a\\nclear picture of your NID front side and click on the Next button. You can also flip\\nyour camera by clicking on the flip button. For the NID back side, follow the same\\nprocess.\\n4. Can I scan my photo for face verification or do I have to capture the picture\\ninstantly?\\nAnswer: You will have to capture your face instantly for face verification. You can flip\\nthe camera by clicking on the flip button and capture your face very easily.\\n5. Is it possible to use special characters for pin code?\\nAnswer: No, you will have to use integers only for setting pin code.\\n6. If the user is below 18, what can be the alternative of NID?\\nAnswer: In case you are below 18 or you don’t have NID, you can create an account\\nwith a Birth Certificate or Passport Number.\\n7. If the user is 18+ but doesn’t have NID, what can be the alternative of NID?\\nAnswer: In case you are below 18 or you don’t have NID, you can create an account with a\\nBirth Certificate or Passport Number.\\n8. Is it possible to use a passport/birth certificate?\\nAnswer: In case you are below 18 or you don’t have NID, you can create an account with a\\nBirth Certificate or Passport Number.\",\n",
       " 'Login/Logout\\n9. How can I login into Kori Digital Bank?\\nAnswer: For Android/Web/IOS:\\nFirst Time:\\n● Tap on the digital banking app icon to launch the application.\\n● Navigate to the login page.\\n● Enter a valid mobile number which has a Kori Digital Bank Account.\\n● Enter the otp sent to that number.\\n● Enter the 5 digit pin code.\\n● Click on the \"NEXT\" button and you will be able to login successfully.\\nUsual:\\n● Tap on the digital banking app icon to launch the application.\\n● Navigate to the login page.\\n● Enter a valid mobile number which has a Kori Digital Bank Account.\\n● Enter the 5 digit pin code.\\n● Click on the \"NEXT\" button and you will be able to login successfully.\\n10.How can I logout from Kori Digital Bank?\\nAnswer: For Android/Web/IOS:\\n● Log in with your account.\\n● Tap on the personal profile from the home page.\\n● Click the “Logout” button.\\nKYC\\n1. What is KYC?\\nAnswer: KYC stands for \"Know Your Customer.\" It is a process that financial\\ninstitutions and other regulated companies use to verify the identity of their\\ncustomers or clients in order to ensure compliance with regulations and to mitigate\\nrisks such as fraud, money laundering, terrorist financing, and identity theft.\\n2. What is the purpose of KYC?',\n",
       " 'Answer: The purpose of KYC is to verify customer identities, assess risks, comply\\nwith regulations, prevent financial crimes such as money laundering, and foster trust\\nbetween institutions and customers.\\n3. Is it mandatory to answer KYC questions?\\nAnswer: No, you can skip questions which you don’t want to share.However, you are\\nvery important to us as a customer.To serve you better we recommend you to answer these\\nfew questions. It will take only two minutes\\n4. Can I skip questions that I don’t want to share?\\nAnswer: Yes, you can skip questions which you don’t want to share.\\nRegister Account FAQ\\n1. What is Digital Banking?\\nAns. A digital bank is a financial institution that operates exclusively or primarily\\nthrough online platforms and mobile applications, eliminating the need for physical\\nbranches. It leverages technology to provide a wide range of financial services,\\nincluding account management, transactions, and customer support, with a focus on\\nuser-friendly interfaces. These banks prioritise a customer-centric approach,\\nemphasising accessibility, quick account setup, and efficient support through digital\\nchannels.\\n2. About Kori Digital Bank?\\nAns. Welcome to Kori Digital Bank, a pioneer in reshaping the financial landscape of\\nBangladesh and turning the vision of a \"Smart Bangladesh 2041\" into reality. As one\\nof the first digital banks in the country, Kori Digital Bank is committed to propelling\\nBangladesh towards a cashless future. Our mobile application seamlessly integrates\\nthe essential features of traditional banks, providing users with easy access to\\nfinancial services. From opening a bank account to conducting transactions and\\naccessing customer support, Kori Digital Bank prioritises a user-friendly interface,\\nensuring a convenient and efficient banking experience. Join us in embracing the\\nfuture of banking, where innovation meets accessibility, and together, let\\'s contribute\\nto building a digitally empowered Bangladesh.\\n3. How can I get Kori App?\\nAns.\\nYou can download Kori App by clicking on the links.\\nFor android users: Play Store Link. and For iOS users: Apple Store Link.\\n4. Can I make 24/7 transactions with Kori?\\nAns. Yes, you can conduct transactions with Kori 24/7.\\n5. Do I have to open an account to avail Kori services?',\n",
       " 'Ans. Yes. You can open a Kori Account by logging in with your mobile number.\\n6. Is there any charge for opening an account?\\nAns. No\\n7. What are the eligibility criteria for opening a bank account at Kori Digital Bank?\\nAns. The eligibility criteria are as follows:\\n● Nationality: Bangladeshi\\n● Age: No specific age requirement; applicants of all ages are eligible.\\n● Identification: Possession of a National ID, Passport, or Birth Certificate.\\n● Contact Information: A valid SIM card from GP, Robi, Airtel, Banglalink, or\\nTeletalk.\\n8. Where should I go to open a Kori bank account?\\nAns. a. You can also create a Kori Account using the Self-Registration feature on\\nthe Kori App.\\nb. Through a Kori Agent\\n9. Is Mobile Phone a must to avail Kori Services?\\nAns. Yes, having a mobile phone is essential to access Kori Services.\\n10.Do I need to have a bank account to use Kori?\\nAns. No, having a bank account is not necessary to use Kori.\\n11. How much initial deposit is required to open a bank account at Kori Digital\\nBank?\\nAns. The initial deposit required to open a bank account at Kori Digital Bank is 500\\ntaka.\\n12.What actions do I need to take if I send money to the wrong number?\\nAns. Ask Kori Chatbot/Live Chat with Kori Agent/Call Kori Helpline Number/\\nCustomer Care.\\n13.What steps can I take if there is no confirmation notification received after\\ncompleting a transaction?\\nAns. Ask Kori Chatbot/Live Chat with Kori Agent/Call Kori Helpline Number/\\nCustomer Care\\n14.What type of mobile phone is required to use Kori?\\nAns. Both Smartphone and Button Phone users can avail Kori Service.\\na. Smartphone users need to install Kori App.\\nb. Button Phone Users: USSD (Unstructured Supplementary Service Data)\\n15. What will be Kori’s USSD code?\\nAnswer: The USSD code is unavailable. If needed, you can receive assistance\\nfrom the chatbot.\\n16.How to retrieve my Kori account if I change my mobile number?\\nAnswer:This process is ongoing\\n17. How can I change my account password?',\n",
       " \"Ans. Open Kori App -> From the Login Page Page -> Select Forget Password -> You\\ncan change your password by using your mobile number.\\n18.What happens if I enter the wrong password multiple times?\\nAns. It is not possible to modify a customer's mobile number in Kori. Nevertheless, if\\ndesired, you can opt to close your existing Kori account associated with your current\\nmobile number and initiate the opening of a new Kori account linked to the new\\nmobile number.\\n19.How can I retrieve my account password?\\nAns.Password reset option is available on the login page of the Kori App. This often\\ninvolves verifying your identity through security questions or receiving a code via\\nemail or SMS.\\n20.What steps do I need to take if my Kori Account is lost or stolen?\\nAns. Ask Kori Chatbot/Live Chat with Kori Agent/Call Kori Helpline Number/\\nCustomer Care.\\n21.What is the Kori Helpline number?\\nAns. TBA\\n22.What are the necessary steps to maintain the security of my Kori Account?\\nAns. Do not share your password and Kori account number with anyone.\\n23.Where can I make a complaint?\\nAns. By filling up our customer complaint form you can submit complaints. Complaint\\nform Link:\\n24.When is the Kori Helpline open for assistance?\\nAns. The Kori Helpline is available for assistance around the clock, 24/7.\\n25.How do I update my personal details?\\nAns. You can update your account info by clicking on the account settings.\\n26.What interest rate is paid on current account balances?\\nAns. Annual Interest Rate 5%\\n27.Does Kori allow me to make international payments?\\nAnswer:This process is ongoing\\n28.What should I do if I suspect unauthorised activity in my Kori account?\\nAns. Immediately contact Kori’s Customer Support. They will guide you through the\\nnecessary steps to secure your account.\\n29. How do I pay bills using a Kori Account?\\nAns. Open Kori App → Select Bill Pay → Select the Institution→ Pay accordingly\\n30. How can I contact customer support for assistance?\\nAns: You can reach our customer support through the contact details provided on\\nour website or app. We offer support through various channels, including phone,\\nemail, and live chat.\",\n",
       " ['31.Can I add or remove a nominee after opening a term deposit account?\\nAns: Some digital banks may allow you to update nominee details. Check with our\\ncustomer support for the procedure and requirements.\\n32.What is the process for updating my personal information?\\nAns: You can usually update your personal information through the account settings on our\\nwebsite or mobile app. Ensure all details are accurate and up-to-date.\\n33. What to do if I forget my password?\\nTransaction FAQs (Deposit and Withdrawal)\\n1. Are there any charges associated with the transactions?\\nAns.No, there are no charges associated with the transactions.\\n2. Can I deposit and withdraw money immediately after registration?\\nAns. You can deposit money immediately after registration. However, you can\\nwithdraw after your account is approved. Bank Official verifies the information on the\\nKYC form and authorises the account. Normally 1-2 working days are required for full\\napproval.\\n3. What are the limits of Kori Account Transaction?\\nAns. Kori Agent Banking Reference'],\n",
       " [\"4. What is the opening balance of a Deposit Account?\\nAns. The opening balance of a Deposit Account is 500 taka.\\n5. What is the interest rate?\\nAns. Annual Interest Rate 2%\\n6. What is the Virtual Card fee for a Deposit Account?\\nAns. This process is ongoing\\n7. About the 4 types of Deposit Kori Digital bank is Providing?\\nAns.\\na. Current Deposit\\nb. Term Deposit\\nc. Fixed Deposit\\nd. Recurring Deposit\\n8. What is Fixed Deposit General?\\nAns. Fixed Deposit General is a non-transactional account that gives interest and\\nprincipal at maturity. Minimum required amount to open a General FD account is BDT\\n10,000. Interest Rate and tenure will be applicable as per published Bank Treasury\\nRate. Interest is paid on maturity; calculated at 360 days, as per the Interest Rate\\nMatrix. This account is available on a roll over basis until the customer authorises its\\nclosure. Government Tax as per prevailing Bangladesh bank Guideline shall apply to\\nthe interest amount.\\n9. If I don’t have money will Kori provide me emergency money?\\nAns.No, Kori will not provide emergency money if you don't have funds available.\\nBank to Kori Digital Bank FAQ\\n1. How to add money from Bank to Kori?\\nAnswer:This process is ongoing\\n2. Show me the List of Banks that allow fund transfer to Kori?\\nAnswer:Currently, this service is unavailable as the process is still ongoing.\"],\n",
       " '3. Can I transfer money abroad?\\nAnswer:Currently, this service is unavailable as the process is still ongoing.\\n4. What is the upper limit of transferring Money?\\nAnswer:The upper limit for transferring money is 300,000 taka.\\n5. How much time will it take to transfer money?\\nAnswer:The time taken to transfer money varies depending on the transaction\\ntype. For specific details, please consult the service provider\\nCard to Kori\\n1. How to transfer money from Card to Kori?\\nAnswer:Currently, this service is unavailable as the process is still ongoing.\\n2. Which Bank Cards can I use?\\nAnswer:You can utilise any bank card authorised by the Bangladesh Bank.\\n3. How to transfer money to a Kori account from Card?\\nAnswer:Currently, this service is unavailable as the process is still ongoing.\\nInterest:\\n1. What is the interest rate for term deposits?\\nAnswer: The interest rate for term deposits typically ranges from 7% to 8.50%.\\n2. What is the interest rate for recurring deposits?\\nAnswer: The interest rate for a recurring deposit is 3%.\\n3. What is the interest rate for a savings account?\\nAnswer: The interest rate for a savings account is 2%.\\n4. What is the interest rate for a current account?\\nAnswer: The interest rate for a current account is 3%.\\n5. From piggy bank, can I earn interest?\\nAnswer: Yes, you can earn interest from a piggy bank.\\n6. From my current account, can I earn interest?\\nAnswer: Interest is generally not earned on funds held in a current account.\\n7. What is the interest rate of loan repayment in case of nano loan?\\nAnswer: The interest rate for loan repayment in the case of a nano loan is 6%.\\n8. What is the interest rate of loan repayment in case of a small loan?',\n",
       " 'Answer: The interest rate for loan repayment in the case of a small loan is 8%.\\n9. What is the interest rate of loan repayment in the case of a medium loan?\\nAnswer: The interest rate for loan repayment in the case of a medium-sized loan is\\n10%.\\nLoan\\n1. How many types of loan in Kori Digital Bank?\\nAnswer: Personal loans, home loans, Vehicle loans, Agricultural loans & SME loans.\\n2. Is it possible to take more than one loan at a time?\\nAnswer: 5 accounts can be operated at a time.\\n3. What is a Nano loan?\\nAnswer: Small amounts, Short repayment terms, Simple application process &\\nAccessible eligibility\\n4. What are the benefits of nano loan?\\nAnswer: Emergency support, Micro-entrepreneurship & Flexibility Assurance.\\n5. How can a person take a nano loan?\\nAnswer: NID, Salary Certificate, Bank A/C & Proper information about the person.\\n6. What is the range for nano loan?\\nAnswer:The range for a nano loan is from 0 to 50,000 TK.\\n7. What is the timeline of loan repayment in case of nano loan?\\nAnswer: The repayment timeline for a nano loan typically spans 6 months.\\n8. What is a small loan?\\nAnswer: More than 50000TK to less than 100000TK.\\n9. What are the benefits of a small loan?\\nAnswer: Financial Stability, Economic Growth, Home improvement projects Covering\\nunexpected expenses & Consolidating debt.\\n10.How can a person take a small loan?',\n",
       " 'Answer: Stable bank account, Proper bank statement & Income Assurance\\ncertificate.\\n11. What is the range for a small loan?\\nAnswer: The range for a small loan typically falls between 50,000 to 100,000.\\n12.What is the timeline of loan repayment in case of a small loan?\\nAnswer: The timeline for loan repayment in the case of a small loan is typically one\\nyear.\\n13.What is a medium loan?\\nAnswer: A medium loan refers to a borrowing arrangement with a duration typically\\nspanning from 1 to 5 years.\\n14.What are the benefits of a medium loan?\\nAnswer:The benefits of a medium loan include a fixed interest rate and the\\nadvantage of lower monthly payments.\\n15. How can a person take a medium loan?\\nAnswer: Proper Document (NID, Income Certificate, License), Mortgage, Collateral &\\nGuarantor.\\n16.What is the range for a medium loan?\\nAnswer:The range for a medium loan typically falls between 500,000 taka to\\n2,000,000 taka.\\n17.What is the timeline of loan repayment in the case of a medium loan?\\nAnswer: The timeline for loan repayment in the case of a medium loan is five years.\\n18.How can a person repay the loan?\\nAnswer: From Connecting any bank account, direct deposit & other transferable\\nmethods (Inter Bank).\\n19.Do I have to give any safety amount for taking out a loan?\\nAnswer: No, you do not have to provide any security deposit for taking out a loan.\\n20.Do I have to mortgage my property for taking a loan?\\nAnswer:Yes, you would need to mortgage your property to take a loan.\\n21.How many installments can I take for loan repayment?',\n",
       " 'Answer: The number of instalments you can take for loan repayment depends on the\\nterms outlined in the contract.\\n22.What is the procedure of repaying a loan?\\nAnswer: The repayment procedure for a loan typically involves making fixed\\npayments of a predetermined amount at regular intervals until the loan is fully paid\\noff.\\n23.How can I check my loan status?\\nAnswer: You can check the status of your loan by utilising the Kori App.\\n24.Is it possible to repay before the due date?\\nAnswer: Yes, it is possible to repay before the due date.\\n25.How can I save my payment for future transactions?\\nAnswer: You can save your payment for future transactions by using secure and\\nreliable methods offered by the service provider.\\n26.Is it possible to do automatic debit on the due date? If yes, how?\\nAnswer: Yes, automatic debit on the due date is possible.\\n27. What are the payment methods for repaying a loan?\\nAnswer: Direct transfer, Automatic debit & MFS.\\n28.From where I can see the loan details??\\nAnswer: In the loan section of Kori App.\\n29.What is the minimum amount for an installment?\\nAnswer: The minimum amount for an installment is 500 taka.\\n30.Is there any penalty for skipping any installment?\\nAnswer: Yes. Late fees & penalties will be added as per recurring interest rate.']"
      ]
     },
     "execution_count": 10,
     "metadata": {},
     "output_type": "execute_result"
    }
   ],
   "source": [
    "extracted_text"
   ]
  },
  {
   "cell_type": "code",
   "execution_count": 11,
   "metadata": {},
   "outputs": [],
   "source": [
    "from langchain_community.chat_models import ChatOllama\n",
    "from langchain_core.output_parsers import StrOutputParser\n",
    "from langchain_core.prompts import ChatPromptTemplate"
   ]
  },
  {
   "cell_type": "code",
   "execution_count": 12,
   "metadata": {},
   "outputs": [
    {
     "name": "stderr",
     "output_type": "stream",
     "text": [
      "/tmp/ipykernel_1720/940513099.py:15: LangChainDeprecationWarning: The class `ChatOllama` was deprecated in LangChain 0.3.1 and will be removed in 1.0.0. An updated version of the class exists in the :class:`~langchain-ollama package and should be used instead. To use it run `pip install -U :class:`~langchain-ollama` and import as `from :class:`~langchain_ollama import ChatOllama``.\n",
      "  model = ChatOllama(model=\"llama3.2:3b\")\n"
     ]
    }
   ],
   "source": [
    "# Prompt text\n",
    "prompt_text = \"\"\"You are an assistant tasked with summarizing text. \\\n",
    "    When given a question-and-answer passage, your role is to create a concise summary that captures all relevant contextual details from the text. \\\n",
    "    Question-and-answer content: {element}\"\"\"\n",
    "prompt_text = ChatPromptTemplate.from_template(prompt_text)\n",
    "\n",
    "# Prompt table\n",
    "prompt_table = \"\"\"You are an assistant responsible for summarizing tables. \\\n",
    "    When provided with the MARKDOWN table, your task is to create a concise summary that captures all the information presented in the table. \\\n",
    "    MARKDOWN table: {element}\"\"\"\n",
    "prompt_table = ChatPromptTemplate.from_template(prompt_table)\n",
    "\n",
    "\n",
    "# Summary chain\n",
    "model = ChatOllama(model=\"llama3.2:3b\")\n",
    "summarize_chain_text = {\"element\": lambda x: x} | prompt_text | model | StrOutputParser()\n",
    "summarize_chain_table = {\"element\": lambda x: x} | prompt_table | model | StrOutputParser()"
   ]
  },
  {
   "cell_type": "code",
   "execution_count": 13,
   "metadata": {},
   "outputs": [],
   "source": [
    "# Apply to text\n",
    "# texts = [i.text for i in text_elements if i.text != \"\"]\n",
    "# text_summaries = summarize_chain_text.batch(texts, {\"max_concurrency\": 5})"
   ]
  },
  {
   "cell_type": "code",
   "execution_count": 14,
   "metadata": {},
   "outputs": [],
   "source": [
    "# Apply to tables\n",
    "# tables = [i for i in table_elements]\n",
    "table_summaries = summarize_chain_table.batch(extracted_table)"
   ]
  },
  {
   "cell_type": "code",
   "execution_count": 17,
   "metadata": {},
   "outputs": [
    {
     "data": {
      "text/plain": [
       "'Here is a concise summary of the table:\\n\\nThe service provides three types of transactions: Send Money, Cash Out, and Cash In. \\n\\n- Daily transaction limits and counts are:\\n    - Send Money: $25,000 with 50 transactions.\\n    - Cash Out: $25,000 with 15 transactions.\\n    - Cash In: $30,000 with 15 transactions.\\n\\n- Monthly transaction limits and counts are:\\n    - Send Money: $100,000 with 100 transactions.\\n    - Cash Out: $150,000 with 150 transactions.\\n    - Cash In: $200,000 with 150 transactions.'"
      ]
     },
     "execution_count": 17,
     "metadata": {},
     "output_type": "execute_result"
    }
   ],
   "source": [
    "table_summaries[6]"
   ]
  },
  {
   "cell_type": "code",
   "execution_count": null,
   "metadata": {},
   "outputs": [],
   "source": []
  },
  {
   "cell_type": "markdown",
   "metadata": {},
   "source": [
    "'Here is a concise summary of the table:\\n\\n**Interest Rate Summary**\\n\\n* The interest rate varies based on the amount deposited:\\n + For deposits up to ₹1 crore, the rates are as follows:\\n - Less than ₹25 lakh: 1.25%\\n - ₹25 lakh to ₹50 crore: 1.75%\\n - Above ₹50 crore: 2.00%\\n* For deposits above ₹100 crore, the rates are as follows:\\n + Between ₹50 crore and ₹100 crore (inclusive): 4.00-8.50%\\n + ₹100 crore and above: 4.00-8.75%\\n\\nAdditionally, there is a special notice deposit (SND) scheme with interest rates as follows:\\n\\n* For deposits up to ₹1 crore, the rates are as follows:\\n - Less than ₹25 lakh: \\n - ₹25 lakh to ₹50 crore: 3 months but < 6 months: 3.50-8.00%\\n - Above ₹50 crore but below ₹100 crore: 6 months but < 1 year: 3.75-8.25%\\n* For deposits above ₹100 crore, the rates are:\\n + Between ₹50 crore and ₹100 crore (inclusive): 4.00-8.50%\\n + ₹100 crore and above: 4.00-8.75%'\n"
   ]
  },
  {
   "cell_type": "markdown",
   "metadata": {},
   "source": [
    "# Add to vectorstore"
   ]
  },
  {
   "cell_type": "code",
   "execution_count": 58,
   "metadata": {},
   "outputs": [],
   "source": [
    "import uuid\n",
    "\n",
    "from langchain.retrievers.multi_vector import MultiVectorRetriever\n",
    "from langchain.storage import InMemoryStore\n",
    "from langchain_chroma import Chroma\n",
    "from langchain_community.embeddings import GPT4AllEmbeddings\n",
    "from langchain_core.documents import Document\n",
    "\n",
    "# The vectorstore to use to index the child chunks\n",
    "vectorstore = Chroma(\n",
    "    collection_name=\"summaries\", embedding_function=GPT4AllEmbeddings()\n",
    ")\n",
    "\n",
    "# The storage layer for the parent documents\n",
    "store = InMemoryStore()  # <- Can we extend this to images\n",
    "id_key = \"doc_id\"\n",
    "\n",
    "# The retriever (empty to start)\n",
    "retriever = MultiVectorRetriever(\n",
    "    vectorstore=vectorstore,\n",
    "    docstore=store,\n",
    "    id_key=id_key,\n",
    ")"
   ]
  },
  {
   "cell_type": "code",
   "execution_count": 59,
   "metadata": {},
   "outputs": [],
   "source": [
    "# Add texts\n",
    "doc_ids = [str(uuid.uuid4()) for _ in texts]\n",
    "summary_texts = [\n",
    "    Document(page_content=s, metadata={id_key: doc_ids[i]})\n",
    "    for i, s in enumerate(text_summaries)\n",
    "]\n",
    "retriever.vectorstore.add_documents(summary_texts)\n",
    "retriever.docstore.mset(list(zip(doc_ids, texts)))\n",
    "\n",
    "# Add tables\n",
    "table_ids = [str(uuid.uuid4()) for _ in tables]\n",
    "summary_tables = [\n",
    "    Document(page_content=s, metadata={id_key: table_ids[i]})\n",
    "    for i, s in enumerate(table_summaries)\n",
    "]\n",
    "retriever.vectorstore.add_documents(summary_tables)\n",
    "retriever.docstore.mset(list(zip(table_ids, tables)))"
   ]
  },
  {
   "cell_type": "code",
   "execution_count": null,
   "metadata": {},
   "outputs": [],
   "source": [
    "from langchain_core.runnables import RunnablePassthrough\n",
    "\n",
    "# Prompt template\n",
    "template = \"\"\"Answer the question based only on the following context, which can include text and tables:\n",
    "{context}\n",
    "Question: {question}\n",
    "\"\"\"\n",
    "prompt = ChatPromptTemplate.from_template(template)\n",
    "\n",
    "# Option 1: LLM\n",
    "model = ChatOllama(model=\"llama2:13b-chat\")\n",
    "# Option 2: Multi-modal LLM\n",
    "# model = LLaVA\n",
    "\n",
    "# RAG pipeline\n",
    "chain = (\n",
    "    {\"context\": retriever, \"question\": RunnablePassthrough()}\n",
    "    | prompt\n",
    "    | model\n",
    "    | StrOutputParser()\n",
    ")"
   ]
  }
 ],
 "metadata": {
  "kernelspec": {
   "display_name": "en_bn_rag",
   "language": "python",
   "name": "python3"
  },
  "language_info": {
   "codemirror_mode": {
    "name": "ipython",
    "version": 3
   },
   "file_extension": ".py",
   "mimetype": "text/x-python",
   "name": "python",
   "nbconvert_exporter": "python",
   "pygments_lexer": "ipython3",
   "version": "3.11.2"
  }
 },
 "nbformat": 4,
 "nbformat_minor": 2
}
